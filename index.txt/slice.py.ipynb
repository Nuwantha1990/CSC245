{
 "cells": [
  {
   "cell_type": "code",
   "execution_count": null,
   "id": "initial_id",
   "metadata": {
    "collapsed": true
   },
   "outputs": [],
   "source": []
  },
  {
   "cell_type": "code",
   "outputs": [
    {
     "name": "stdout",
     "output_type": "stream",
     "text": [
      "[11 12]\n",
      "[[ 0  0  0]\n",
      " [ 0  0  0]\n",
      " [17 18 19]]\n",
      "[20 19 18 17 16 15 14 13 12 11 10  9  8  7  6  5  4  3  2  1  0]\n",
      "[[11 12]\n",
      " [13 14]\n",
      " [15 16]]\n"
     ]
    }
   ],
   "source": [
    "import numpy as np\n",
    "\n",
    "# Slice\n",
    "\n",
    "myArray = np.array([[11,12,13], [14,15,16], [17,18,19]])\n",
    "#a. Get a subarray of the first row and first 2 columns. Your results should look like this:\n",
    "#[11 12]\n",
    "\n",
    "print(myArray[0,0:2])\n",
    "\n",
    "#b. Change all elements in 1st and second row to 0. Your results should look like this:\n",
    "myArray[0:2] = 0\n",
    "print(myArray)\n",
    "\n",
    "#2. Create an array that contains [0,1,2,3,4,5,6,7,8,9,10,11,12,13,14,15,16,17,18,19,20] and reverse the order.\n",
    "\n",
    "myArr = np.array([0,1,2,3,4,5,6,7,8,9,10,11,12,13,14,15,16,17,18,19,20])\n",
    "reversed_myArr = myArr[::-1]\n",
    "print(reversed_myArr)\n",
    "\n",
    "#Use this array for the following practice:\n",
    "mynewArray = np.array([[11,12,13], [14,15,16]])\n",
    "\n",
    "#Reshape the array to an array with 3 rows. Your results should look like this:\n",
    "#[11 12]\n",
    "#[13 14]\n",
    "#[15 16]]\n",
    "\n",
    "reshaped_array = mynewArray.reshape(3,2)\n",
    "print(reshaped_array)\n",
    "\n"
   ],
   "metadata": {
    "collapsed": false,
    "ExecuteTime": {
     "end_time": "2024-02-29T14:24:46.475529100Z",
     "start_time": "2024-02-29T14:24:46.021418300Z"
    }
   },
   "id": "286352bfc04e044b",
   "execution_count": 1
  },
  {
   "cell_type": "code",
   "outputs": [],
   "source": [],
   "metadata": {
    "collapsed": false
   },
   "id": "d5161e598133fa04"
  }
 ],
 "metadata": {
  "kernelspec": {
   "display_name": "Python 3",
   "language": "python",
   "name": "python3"
  },
  "language_info": {
   "codemirror_mode": {
    "name": "ipython",
    "version": 2
   },
   "file_extension": ".py",
   "mimetype": "text/x-python",
   "name": "python",
   "nbconvert_exporter": "python",
   "pygments_lexer": "ipython2",
   "version": "2.7.6"
  }
 },
 "nbformat": 4,
 "nbformat_minor": 5
}
