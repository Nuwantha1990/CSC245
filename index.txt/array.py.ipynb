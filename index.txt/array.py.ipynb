{
 "cells": [
  {
   "cell_type": "code",
   "execution_count": null,
   "id": "initial_id",
   "metadata": {
    "collapsed": true
   },
   "outputs": [],
   "source": []
  },
  {
   "cell_type": "code",
   "outputs": [
    {
     "name": "stdout",
     "output_type": "stream",
     "text": [
      "[[11 12 13 14]\n",
      " [15 16 17 18]]\n",
      "[[0. 0. 0.]\n",
      " [0. 0. 0.]\n",
      " [0. 0. 0.]\n",
      " [0. 0. 0.]]\n",
      "[[1. 1. 1. 1.]\n",
      " [1. 1. 1. 1.]\n",
      " [1. 1. 1. 1.]]\n",
      "[ 4  5  6  7  8  9 10 11 12 13]\n",
      "[0.  1.5 3.  4.5]\n",
      "[[4 4]\n",
      " [4 4]]\n",
      "[[1. 0. 0. 0.]\n",
      " [0. 1. 0. 0.]\n",
      " [0. 0. 1. 0.]\n",
      " [0. 0. 0. 1.]]\n",
      "[[10  0]\n",
      " [ 0 12]]\n"
     ]
    },
    {
     "ename": "MemoryError",
     "evalue": "Unable to allocate 26.0 GiB for an array with shape (3486784401,) and data type float64",
     "output_type": "error",
     "traceback": [
      "\u001B[1;31m---------------------------------------------------------------------------\u001B[0m",
      "\u001B[1;31mMemoryError\u001B[0m                               Traceback (most recent call last)",
      "\u001B[1;32m~\\AppData\\Local\\Temp\\ipykernel_8020\\4112086596.py\u001B[0m in \u001B[0;36m<module>\u001B[1;34m\u001B[0m\n\u001B[0;32m     43\u001B[0m \u001B[1;31m#Create a 3 by 3 array with random floats in [0, 10]\u001B[0m\u001B[1;33m\u001B[0m\u001B[1;33m\u001B[0m\u001B[0m\n\u001B[0;32m     44\u001B[0m \u001B[0mrange6\u001B[0m \u001B[1;33m=\u001B[0m \u001B[0mnp\u001B[0m\u001B[1;33m.\u001B[0m\u001B[0mrandom\u001B[0m\u001B[1;33m.\u001B[0m\u001B[0mrandom\u001B[0m\u001B[1;33m(\u001B[0m\u001B[1;33m(\u001B[0m\u001B[1;36m3\u001B[0m\u001B[1;33m,\u001B[0m\u001B[1;36m3\u001B[0m\u001B[1;33m)\u001B[0m\u001B[1;33m*\u001B[0m\u001B[1;36m10\u001B[0m\u001B[1;33m)\u001B[0m\u001B[1;33m\u001B[0m\u001B[0m\n\u001B[1;32m---> 45\u001B[1;33m \u001B[0mprint\u001B[0m\u001B[1;33m(\u001B[0m\u001B[0mrange6\u001B[0m\u001B[1;33m)\u001B[0m\u001B[1;33m\u001B[0m\u001B[0m\n\u001B[0m\u001B[0;32m     46\u001B[0m \u001B[1;33m\u001B[0m\u001B[0m\n\u001B[0;32m     47\u001B[0m \u001B[1;33m\u001B[0m\u001B[0m\n",
      "\u001B[1;32m~\\AppData\\Roaming\\Python\\Python37\\site-packages\\numpy\\core\\arrayprint.py\u001B[0m in \u001B[0;36m_array_str_implementation\u001B[1;34m(a, max_line_width, precision, suppress_small, array2string)\u001B[0m\n\u001B[0;32m   1549\u001B[0m         \u001B[1;32mreturn\u001B[0m \u001B[0m_guarded_repr_or_str\u001B[0m\u001B[1;33m(\u001B[0m\u001B[0mnp\u001B[0m\u001B[1;33m.\u001B[0m\u001B[0mndarray\u001B[0m\u001B[1;33m.\u001B[0m\u001B[0m__getitem__\u001B[0m\u001B[1;33m(\u001B[0m\u001B[0ma\u001B[0m\u001B[1;33m,\u001B[0m \u001B[1;33m(\u001B[0m\u001B[1;33m)\u001B[0m\u001B[1;33m)\u001B[0m\u001B[1;33m)\u001B[0m\u001B[1;33m\u001B[0m\u001B[0m\n\u001B[0;32m   1550\u001B[0m \u001B[1;33m\u001B[0m\u001B[0m\n\u001B[1;32m-> 1551\u001B[1;33m     \u001B[1;32mreturn\u001B[0m \u001B[0marray2string\u001B[0m\u001B[1;33m(\u001B[0m\u001B[0ma\u001B[0m\u001B[1;33m,\u001B[0m \u001B[0mmax_line_width\u001B[0m\u001B[1;33m,\u001B[0m \u001B[0mprecision\u001B[0m\u001B[1;33m,\u001B[0m \u001B[0msuppress_small\u001B[0m\u001B[1;33m,\u001B[0m \u001B[1;34m' '\u001B[0m\u001B[1;33m,\u001B[0m \u001B[1;34m\"\"\u001B[0m\u001B[1;33m)\u001B[0m\u001B[1;33m\u001B[0m\u001B[0m\n\u001B[0m\u001B[0;32m   1552\u001B[0m \u001B[1;33m\u001B[0m\u001B[0m\n\u001B[0;32m   1553\u001B[0m \u001B[1;33m\u001B[0m\u001B[0m\n",
      "\u001B[1;32m~\\AppData\\Roaming\\Python\\Python37\\site-packages\\numpy\\core\\arrayprint.py\u001B[0m in \u001B[0;36marray2string\u001B[1;34m(a, max_line_width, precision, suppress_small, separator, prefix, style, formatter, threshold, edgeitems, sign, floatmode, suffix, legacy)\u001B[0m\n\u001B[0;32m    696\u001B[0m         \u001B[1;32mreturn\u001B[0m \u001B[1;34m\"[]\"\u001B[0m\u001B[1;33m\u001B[0m\u001B[0m\n\u001B[0;32m    697\u001B[0m \u001B[1;33m\u001B[0m\u001B[0m\n\u001B[1;32m--> 698\u001B[1;33m     \u001B[1;32mreturn\u001B[0m \u001B[0m_array2string\u001B[0m\u001B[1;33m(\u001B[0m\u001B[0ma\u001B[0m\u001B[1;33m,\u001B[0m \u001B[0moptions\u001B[0m\u001B[1;33m,\u001B[0m \u001B[0mseparator\u001B[0m\u001B[1;33m,\u001B[0m \u001B[0mprefix\u001B[0m\u001B[1;33m)\u001B[0m\u001B[1;33m\u001B[0m\u001B[0m\n\u001B[0m\u001B[0;32m    699\u001B[0m \u001B[1;33m\u001B[0m\u001B[0m\n\u001B[0;32m    700\u001B[0m \u001B[1;33m\u001B[0m\u001B[0m\n",
      "\u001B[1;32m~\\AppData\\Roaming\\Python\\Python37\\site-packages\\numpy\\core\\arrayprint.py\u001B[0m in \u001B[0;36mwrapper\u001B[1;34m(self, *args, **kwargs)\u001B[0m\n\u001B[0;32m    473\u001B[0m             \u001B[0mrepr_running\u001B[0m\u001B[1;33m.\u001B[0m\u001B[0madd\u001B[0m\u001B[1;33m(\u001B[0m\u001B[0mkey\u001B[0m\u001B[1;33m)\u001B[0m\u001B[1;33m\u001B[0m\u001B[0m\n\u001B[0;32m    474\u001B[0m             \u001B[1;32mtry\u001B[0m\u001B[1;33m:\u001B[0m\u001B[1;33m\u001B[0m\u001B[0m\n\u001B[1;32m--> 475\u001B[1;33m                 \u001B[1;32mreturn\u001B[0m \u001B[0mf\u001B[0m\u001B[1;33m(\u001B[0m\u001B[0mself\u001B[0m\u001B[1;33m,\u001B[0m \u001B[1;33m*\u001B[0m\u001B[0margs\u001B[0m\u001B[1;33m,\u001B[0m \u001B[1;33m**\u001B[0m\u001B[0mkwargs\u001B[0m\u001B[1;33m)\u001B[0m\u001B[1;33m\u001B[0m\u001B[0m\n\u001B[0m\u001B[0;32m    476\u001B[0m             \u001B[1;32mfinally\u001B[0m\u001B[1;33m:\u001B[0m\u001B[1;33m\u001B[0m\u001B[0m\n\u001B[0;32m    477\u001B[0m                 \u001B[0mrepr_running\u001B[0m\u001B[1;33m.\u001B[0m\u001B[0mdiscard\u001B[0m\u001B[1;33m(\u001B[0m\u001B[0mkey\u001B[0m\u001B[1;33m)\u001B[0m\u001B[1;33m\u001B[0m\u001B[0m\n",
      "\u001B[1;32m~\\AppData\\Roaming\\Python\\Python37\\site-packages\\numpy\\core\\arrayprint.py\u001B[0m in \u001B[0;36m_array2string\u001B[1;34m(a, options, separator, prefix)\u001B[0m\n\u001B[0;32m    499\u001B[0m \u001B[1;33m\u001B[0m\u001B[0m\n\u001B[0;32m    500\u001B[0m     \u001B[1;31m# find the right formatting function for the array\u001B[0m\u001B[1;33m\u001B[0m\u001B[1;33m\u001B[0m\u001B[0m\n\u001B[1;32m--> 501\u001B[1;33m     \u001B[0mformat_function\u001B[0m \u001B[1;33m=\u001B[0m \u001B[0m_get_format_function\u001B[0m\u001B[1;33m(\u001B[0m\u001B[0mdata\u001B[0m\u001B[1;33m,\u001B[0m \u001B[1;33m**\u001B[0m\u001B[0moptions\u001B[0m\u001B[1;33m)\u001B[0m\u001B[1;33m\u001B[0m\u001B[0m\n\u001B[0m\u001B[0;32m    502\u001B[0m \u001B[1;33m\u001B[0m\u001B[0m\n\u001B[0;32m    503\u001B[0m     \u001B[1;31m# skip over \"[\"\u001B[0m\u001B[1;33m\u001B[0m\u001B[1;33m\u001B[0m\u001B[0m\n",
      "\u001B[1;32m~\\AppData\\Roaming\\Python\\Python37\\site-packages\\numpy\\core\\arrayprint.py\u001B[0m in \u001B[0;36m_get_format_function\u001B[1;34m(data, **options)\u001B[0m\n\u001B[0;32m    432\u001B[0m             \u001B[1;32mreturn\u001B[0m \u001B[0mformatdict\u001B[0m\u001B[1;33m[\u001B[0m\u001B[1;34m'longfloat'\u001B[0m\u001B[1;33m]\u001B[0m\u001B[1;33m(\u001B[0m\u001B[1;33m)\u001B[0m\u001B[1;33m\u001B[0m\u001B[0m\n\u001B[0;32m    433\u001B[0m         \u001B[1;32melse\u001B[0m\u001B[1;33m:\u001B[0m\u001B[1;33m\u001B[0m\u001B[0m\n\u001B[1;32m--> 434\u001B[1;33m             \u001B[1;32mreturn\u001B[0m \u001B[0mformatdict\u001B[0m\u001B[1;33m[\u001B[0m\u001B[1;34m'float'\u001B[0m\u001B[1;33m]\u001B[0m\u001B[1;33m(\u001B[0m\u001B[1;33m)\u001B[0m\u001B[1;33m\u001B[0m\u001B[0m\n\u001B[0m\u001B[0;32m    435\u001B[0m     \u001B[1;32melif\u001B[0m \u001B[0missubclass\u001B[0m\u001B[1;33m(\u001B[0m\u001B[0mdtypeobj\u001B[0m\u001B[1;33m,\u001B[0m \u001B[0m_nt\u001B[0m\u001B[1;33m.\u001B[0m\u001B[0mcomplexfloating\u001B[0m\u001B[1;33m)\u001B[0m\u001B[1;33m:\u001B[0m\u001B[1;33m\u001B[0m\u001B[0m\n\u001B[0;32m    436\u001B[0m         \u001B[1;32mif\u001B[0m \u001B[0missubclass\u001B[0m\u001B[1;33m(\u001B[0m\u001B[0mdtypeobj\u001B[0m\u001B[1;33m,\u001B[0m \u001B[0m_nt\u001B[0m\u001B[1;33m.\u001B[0m\u001B[0mclongfloat\u001B[0m\u001B[1;33m)\u001B[0m\u001B[1;33m:\u001B[0m\u001B[1;33m\u001B[0m\u001B[0m\n",
      "\u001B[1;32m~\\AppData\\Roaming\\Python\\Python37\\site-packages\\numpy\\core\\arrayprint.py\u001B[0m in \u001B[0;36m<lambda>\u001B[1;34m()\u001B[0m\n\u001B[0;32m    374\u001B[0m         \u001B[1;34m'int'\u001B[0m\u001B[1;33m:\u001B[0m \u001B[1;32mlambda\u001B[0m\u001B[1;33m:\u001B[0m \u001B[0mIntegerFormat\u001B[0m\u001B[1;33m(\u001B[0m\u001B[0mdata\u001B[0m\u001B[1;33m)\u001B[0m\u001B[1;33m,\u001B[0m\u001B[1;33m\u001B[0m\u001B[0m\n\u001B[0;32m    375\u001B[0m         'float': lambda: FloatingFormat(\n\u001B[1;32m--> 376\u001B[1;33m             data, precision, floatmode, suppress, sign, legacy=legacy),\n\u001B[0m\u001B[0;32m    377\u001B[0m         'longfloat': lambda: FloatingFormat(\n\u001B[0;32m    378\u001B[0m             data, precision, floatmode, suppress, sign, legacy=legacy),\n",
      "\u001B[1;32m~\\AppData\\Roaming\\Python\\Python37\\site-packages\\numpy\\core\\arrayprint.py\u001B[0m in \u001B[0;36m__init__\u001B[1;34m(self, data, precision, floatmode, suppress_small, sign, legacy)\u001B[0m\n\u001B[0;32m    892\u001B[0m         \u001B[0mself\u001B[0m\u001B[1;33m.\u001B[0m\u001B[0mlarge_exponent\u001B[0m \u001B[1;33m=\u001B[0m \u001B[1;32mFalse\u001B[0m\u001B[1;33m\u001B[0m\u001B[0m\n\u001B[0;32m    893\u001B[0m \u001B[1;33m\u001B[0m\u001B[0m\n\u001B[1;32m--> 894\u001B[1;33m         \u001B[0mself\u001B[0m\u001B[1;33m.\u001B[0m\u001B[0mfillFormat\u001B[0m\u001B[1;33m(\u001B[0m\u001B[0mdata\u001B[0m\u001B[1;33m)\u001B[0m\u001B[1;33m\u001B[0m\u001B[0m\n\u001B[0m\u001B[0;32m    895\u001B[0m \u001B[1;33m\u001B[0m\u001B[0m\n\u001B[0;32m    896\u001B[0m     \u001B[1;32mdef\u001B[0m \u001B[0mfillFormat\u001B[0m\u001B[1;33m(\u001B[0m\u001B[0mself\u001B[0m\u001B[1;33m,\u001B[0m \u001B[0mdata\u001B[0m\u001B[1;33m)\u001B[0m\u001B[1;33m:\u001B[0m\u001B[1;33m\u001B[0m\u001B[0m\n",
      "\u001B[1;32m~\\AppData\\Roaming\\Python\\Python37\\site-packages\\numpy\\core\\arrayprint.py\u001B[0m in \u001B[0;36mfillFormat\u001B[1;34m(self, data)\u001B[0m\n\u001B[0;32m    896\u001B[0m     \u001B[1;32mdef\u001B[0m \u001B[0mfillFormat\u001B[0m\u001B[1;33m(\u001B[0m\u001B[0mself\u001B[0m\u001B[1;33m,\u001B[0m \u001B[0mdata\u001B[0m\u001B[1;33m)\u001B[0m\u001B[1;33m:\u001B[0m\u001B[1;33m\u001B[0m\u001B[0m\n\u001B[0;32m    897\u001B[0m         \u001B[1;31m# only the finite values are used to compute the number of digits\u001B[0m\u001B[1;33m\u001B[0m\u001B[1;33m\u001B[0m\u001B[0m\n\u001B[1;32m--> 898\u001B[1;33m         \u001B[0mfinite_vals\u001B[0m \u001B[1;33m=\u001B[0m \u001B[0mdata\u001B[0m\u001B[1;33m[\u001B[0m\u001B[0misfinite\u001B[0m\u001B[1;33m(\u001B[0m\u001B[0mdata\u001B[0m\u001B[1;33m)\u001B[0m\u001B[1;33m]\u001B[0m\u001B[1;33m\u001B[0m\u001B[0m\n\u001B[0m\u001B[0;32m    899\u001B[0m \u001B[1;33m\u001B[0m\u001B[0m\n\u001B[0;32m    900\u001B[0m         \u001B[1;31m# choose exponential mode based on the non-zero finite values:\u001B[0m\u001B[1;33m\u001B[0m\u001B[1;33m\u001B[0m\u001B[0m\n",
      "\u001B[1;31mMemoryError\u001B[0m: Unable to allocate 26.0 GiB for an array with shape (3486784401,) and data type float64"
     ]
    }
   ],
   "source": [
    "import numpy as np\n",
    "# 1. Create a rank 2(2D) array\n",
    "arr = np.array([[11,12,13,14],[15,16,17,18]])\n",
    "\n",
    "print(arr)\n",
    "\n",
    "# 2. Create an array with 4 rows and 3 columns of zeros\n",
    "A = np.zeros((4,3))\n",
    "\n",
    "print(A)\n",
    "\n",
    "#3. Create an array of ones that has 3 rows and 4 columns\n",
    "\n",
    "B = np.ones((3,4))\n",
    "\n",
    "print(B)\n",
    "\n",
    "#4.  Create an array containing integers 4 to 13 inclusive. Your results should look as below:\n",
    "\n",
    "range1 = np.arange(4,14)\n",
    "print(range1)\n",
    "\n",
    "#5. Create an array containing [0., 1.5, 3., 4.5]\n",
    "\n",
    "range2 = np.linspace(0,4.5,4)\n",
    "\n",
    "print(range2)\n",
    "\n",
    "#Create a 2 by 2 array containing '4' in each position. Your results should look like this: [[4 4],[4 4]]\n",
    "range3 = np.full((2,2),4)\n",
    "print(range3)\n",
    "\n",
    "#Create 2 matrices:\n",
    "#Identity matrix of size 4\n",
    "range4 = np.eye(4)\n",
    "print(range4)\n",
    "\n",
    "#Diagonal matrix with [10,12] as the diagonals\n",
    "\n",
    "range5 = np.diag([10,12])\n",
    "print(range5)\n",
    "\n",
    "#Create a 3 by 3 array with random floats in [0, 10]\n",
    "range6 = np.random.random((3,3)*10)\n",
    "print(range6)\n",
    "\n"
   ],
   "metadata": {
    "collapsed": false,
    "ExecuteTime": {
     "end_time": "2024-02-29T14:23:46.716414900Z",
     "start_time": "2024-02-29T14:19:21.217612200Z"
    }
   },
   "id": "6388b3d2b58eee1a",
   "execution_count": 1
  },
  {
   "cell_type": "code",
   "outputs": [
    {
     "name": "stdout",
     "output_type": "stream",
     "text": [
      "[[11 12 13]\n",
      " [14 15 16]\n",
      " [17 18 19]\n",
      " [20 21 22]]\n",
      "[[11 12 13 30]\n",
      " [14 15 16 40]\n",
      " [17 18 19 50]]\n"
     ]
    }
   ],
   "source": [
    "import numpy    as np\n",
    "#ADDING ELEMENTS\n",
    "#Use this array for the following practice:\n",
    "\n",
    "myArray = np.array([[11,12,13], [14,15,16], [17,18,19]])\n",
    "\n",
    "#1. Add a new row of elements containing 20, 21 and 22\n",
    "\n",
    "new_row = np.array([20,21,22])\n",
    "updated_array = np.vstack((myArray,new_row))\n",
    "print(updated_array)\n",
    "\n",
    "#2. Add a new column of elements containing 30, 40 and 50\n",
    "new_column = np.array([[30],[40],[50]])\n",
    "\n",
    "updated_column_array = np.hstack((myArray,new_column))\n",
    "print(updated_column_array)"
   ],
   "metadata": {
    "collapsed": false,
    "ExecuteTime": {
     "end_time": "2024-02-29T14:35:07.732760600Z",
     "start_time": "2024-02-29T14:35:07.562035300Z"
    }
   },
   "id": "febb922e261d8fc3",
   "execution_count": 2
  },
  {
   "cell_type": "code",
   "outputs": [
    {
     "name": "stdout",
     "output_type": "stream",
     "text": [
      "[[1 3]\n",
      " [4 6]\n",
      " [9 7]]\n"
     ]
    }
   ],
   "source": [
    "import numpy as np\n",
    "#Remove the elements from the middle column of this array:\n",
    "myArray = np.matrix([[1, 2, 3], [4, 5, 6], [9, 8, 7]])\n",
    "myArray_new = np.delete(myArray,1,axis=1)\n",
    "print(myArray_new)"
   ],
   "metadata": {
    "collapsed": false,
    "ExecuteTime": {
     "end_time": "2024-02-29T14:35:34.835767800Z",
     "start_time": "2024-02-29T14:35:34.814766Z"
    }
   },
   "id": "4b1296416da8f666",
   "execution_count": 3
  },
  {
   "cell_type": "code",
   "outputs": [
    {
     "name": "stdout",
     "output_type": "stream",
     "text": [
      "[[0. 0.]\n",
      " [0. 0.]] \n",
      "\n",
      "[[0. 0. 1.]\n",
      " [0. 0. 1.]] \n",
      "\n",
      "[[0. 0. 1.]\n",
      " [0. 0. 1.]\n",
      " [2. 2. 2.]\n",
      " [2. 2. 2.]] \n",
      "\n",
      "[[0. 0.]\n",
      " [0. 0.]\n",
      " [2. 2.]\n",
      " [2. 2.]] \n",
      "\n",
      "[[0. 0.]\n",
      " [0. 0.]\n",
      " [2. 2.]] \n"
     ]
    }
   ],
   "source": [
    "import numpy as np\n",
    "\n",
    "#INSERTING ELEMENTS\n",
    "myArray = np.zeros((2,2))\n",
    "print(myArray, \"\\n\")\n",
    "\n",
    "\n",
    "#Add 1 column of 1 to this array:\n",
    "\n",
    "myArray_1 = np.append(myArray,np.ones((2,1)),axis=1)\n",
    "print(myArray_1, \"\\n\")\n",
    "\n",
    "#Add 2 rows of 2 to the answer from part 1\n",
    "myArray_2 = np.append(myArray_1,[[2,2,2],[2,2,2]],axis=0)\n",
    "print(myArray_2, \"\\n\")\n",
    "\n",
    "#Remove the last column\n",
    "myArray_3 = np.delete(myArray_2,2,axis=1)\n",
    "print(myArray_3, \"\\n\")\n",
    "#Remove the last row\n",
    "myArray_4 = np.delete(myArray_3,3,axis=0)\n",
    "print(myArray_4, \"\\n\")"
   ],
   "metadata": {
    "collapsed": false,
    "ExecuteTime": {
     "end_time": "2024-02-29T14:35:53.702188500Z",
     "start_time": "2024-02-29T14:35:53.665638500Z"
    }
   },
   "id": "61819c82cc2bb850",
   "execution_count": 4
  },
  {
   "cell_type": "code",
   "outputs": [
    {
     "name": "stdout",
     "output_type": "stream",
     "text": [
      "[ 0  1  4  9 16 25 36 49 64 81]\n",
      "[0.         1.         1.41421356 1.73205081 2.         2.23606798\n",
      " 2.44948974 2.64575131 2.82842712 3.        ]\n",
      "[  0.           1.           5.65685425  15.58845727  32.\n",
      "  55.90169944  88.18163074 129.64181424 181.01933598 243.        ]\n"
     ]
    }
   ],
   "source": [
    "import numpy as np\n",
    "#Use this array for the following practice:\n",
    "\n",
    "myArray = np.arange(10)\n",
    "\n",
    "#1. Find the square of every number in array\n",
    "\n",
    "squared_array = myArray **2\n",
    "print(squared_array)\n",
    "\n",
    "#2. Find the square root of every number in array\n",
    "squaredroot_array = np.sqrt(myArray)\n",
    "print(squaredroot_array)\n",
    "\n",
    "#3. Multiply the square of each number in array with its respective square root\n",
    "multiply_array = squared_array * squaredroot_array\n",
    "print(multiply_array)"
   ],
   "metadata": {
    "collapsed": false,
    "ExecuteTime": {
     "end_time": "2024-02-29T14:36:29.086521900Z",
     "start_time": "2024-02-29T14:36:29.052999400Z"
    }
   },
   "id": "b53edc0221021aae",
   "execution_count": 5
  },
  {
   "cell_type": "code",
   "outputs": [
    {
     "name": "stdout",
     "output_type": "stream",
     "text": [
      "[11 12]\n",
      "[[ 0  0  0]\n",
      " [ 0  0  0]\n",
      " [17 18 19]]\n",
      "[20 19 18 17 16 15 14 13 12 11 10  9  8  7  6  5  4  3  2  1  0]\n",
      "[[11 12]\n",
      " [13 14]\n",
      " [15 16]]\n"
     ]
    }
   ],
   "source": [
    "import numpy as np\n",
    "\n",
    "# Slice\n",
    "\n",
    "myArray = np.array([[11,12,13], [14,15,16], [17,18,19]])\n",
    "#a. Get a subarray of the first row and first 2 columns. Your results should look like this:\n",
    "#[11 12]\n",
    "\n",
    "print(myArray[0,0:2])\n",
    "\n",
    "#b. Change all elements in 1st and second row to 0. Your results should look like this:\n",
    "myArray[0:2] = 0\n",
    "print(myArray)\n",
    "\n",
    "#2. Create an array that contains [0,1,2,3,4,5,6,7,8,9,10,11,12,13,14,15,16,17,18,19,20] and reverse the order.\n",
    "\n",
    "myArr = np.array([0,1,2,3,4,5,6,7,8,9,10,11,12,13,14,15,16,17,18,19,20])\n",
    "reversed_myArr = myArr[::-1]\n",
    "print(reversed_myArr)\n",
    "\n",
    "#Use this array for the following practice:\n",
    "mynewArray = np.array([[11,12,13], [14,15,16]])\n",
    "\n",
    "#Reshape the array to an array with 3 rows. Your results should look like this:\n",
    "#[11 12]\n",
    "#[13 14]\n",
    "#[15 16]]\n",
    "\n",
    "reshaped_array = mynewArray.reshape(3,2)\n",
    "print(reshaped_array)"
   ],
   "metadata": {
    "collapsed": false,
    "ExecuteTime": {
     "end_time": "2024-02-29T14:36:49.256134800Z",
     "start_time": "2024-02-29T14:36:49.222136400Z"
    }
   },
   "id": "aebe3ab6f9417b12",
   "execution_count": 6
  },
  {
   "cell_type": "code",
   "outputs": [
    {
     "name": "stdout",
     "output_type": "stream",
     "text": [
      "[ 0 -1  2 -1  4 -1  6 -1  8 -1]\n",
      "[[0 1 2]\n",
      " [3 4 5]\n",
      " [6 7 8]]\n",
      "[[202 203]\n",
      " [204 205]]\n"
     ]
    }
   ],
   "source": [
    "import numpy as np\n",
    "#Replace all odd numbers in the given array with -1\n",
    "exercise_1 = np.array([0, 1, 2, 3, 4, 5, 6, 7, 8, 9])\n",
    "exercise_1[exercise_1 % 2 == 1] = -1\n",
    "print(exercise_1)\n",
    "\n",
    "\n",
    "#Convert a 1-D array into a 2-D array with 3 rows\n",
    "exercise_2 = np.array([0,1,2,3,4,5,6,7,8])\n",
    "## Convert exercise_2 into a 2-D array with 3 rows\n",
    "exercise_2_reshaped = exercise_2.reshape(3, -1)\n",
    "print(exercise_2_reshaped)\n",
    "\n",
    "#Add 202 to all the values in given array\n",
    "\n",
    "exercise_3 = np.arange(4).reshape(2,-1)\n",
    "# Add 202 to all the values in exercise_3\n",
    "exercise_3_updated = exercise_3 + 202\n",
    "print(exercise_3_updated)"
   ],
   "metadata": {
    "collapsed": false,
    "ExecuteTime": {
     "end_time": "2024-02-29T14:37:14.026306200Z",
     "start_time": "2024-02-29T14:37:14.010308100Z"
    }
   },
   "id": "14e1073f7f88a015",
   "execution_count": 7
  },
  {
   "cell_type": "code",
   "outputs": [],
   "source": [],
   "metadata": {
    "collapsed": false
   },
   "id": "315fcfa1008544ea"
  }
 ],
 "metadata": {
  "kernelspec": {
   "display_name": "Python 3",
   "language": "python",
   "name": "python3"
  },
  "language_info": {
   "codemirror_mode": {
    "name": "ipython",
    "version": 2
   },
   "file_extension": ".py",
   "mimetype": "text/x-python",
   "name": "python",
   "nbconvert_exporter": "python",
   "pygments_lexer": "ipython2",
   "version": "2.7.6"
  }
 },
 "nbformat": 4,
 "nbformat_minor": 5
}
