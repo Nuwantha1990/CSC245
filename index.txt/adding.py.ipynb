{
 "cells": [
  {
   "cell_type": "code",
   "execution_count": null,
   "id": "initial_id",
   "metadata": {
    "collapsed": true
   },
   "outputs": [],
   "source": []
  },
  {
   "cell_type": "code",
   "outputs": [
    {
     "name": "stdout",
     "output_type": "stream",
     "text": [
      "[[11 12 13]\n",
      " [14 15 16]\n",
      " [17 18 19]\n",
      " [20 21 22]]\n",
      "[[11 12 13 30]\n",
      " [14 15 16 40]\n",
      " [17 18 19 50]]\n"
     ]
    }
   ],
   "source": [
    "import numpy as np\n",
    "\n",
    "#ADDING ELEMENTS\n",
    "#Use this array for the following practice:\n",
    "\n",
    "myArray = np.array([[11,12,13], [14,15,16], [17,18,19]])\n",
    "\n",
    "#1. Add a new row of elements containing 20, 21 and 22\n",
    "\n",
    "new_row = np.array([20,21,22])\n",
    "updated_array = np.vstack((myArray,new_row))\n",
    "print(updated_array)\n",
    "\n",
    "#2. Add a new column of elements containing 30, 40 and 50\n",
    "new_column = np.array([[30],[40],[50]])\n",
    "\n",
    "updated_column_array = np.hstack((myArray,new_column))\n",
    "print(updated_column_array)"
   ],
   "metadata": {
    "collapsed": false,
    "ExecuteTime": {
     "end_time": "2024-02-29T14:21:09.285957600Z",
     "start_time": "2024-02-29T14:21:07.893415800Z"
    }
   },
   "id": "1cd0f7611a58fe20",
   "execution_count": 1
  },
  {
   "cell_type": "code",
   "outputs": [],
   "source": [],
   "metadata": {
    "collapsed": false,
    "ExecuteTime": {
     "end_time": "2024-02-29T14:21:09.364219200Z",
     "start_time": "2024-02-29T14:21:08.296808300Z"
    }
   },
   "id": "b03b5b071dbe8683",
   "execution_count": 1
  },
  {
   "cell_type": "code",
   "outputs": [],
   "source": [],
   "metadata": {
    "collapsed": false
   },
   "id": "a210cc3c48942df8"
  }
 ],
 "metadata": {
  "kernelspec": {
   "display_name": "Python 3",
   "language": "python",
   "name": "python3"
  },
  "language_info": {
   "codemirror_mode": {
    "name": "ipython",
    "version": 2
   },
   "file_extension": ".py",
   "mimetype": "text/x-python",
   "name": "python",
   "nbconvert_exporter": "python",
   "pygments_lexer": "ipython2",
   "version": "2.7.6"
  }
 },
 "nbformat": 4,
 "nbformat_minor": 5
}
