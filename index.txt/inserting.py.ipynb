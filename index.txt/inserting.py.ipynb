{
 "cells": [
  {
   "cell_type": "code",
   "execution_count": null,
   "id": "initial_id",
   "metadata": {
    "collapsed": true
   },
   "outputs": [],
   "source": []
  },
  {
   "cell_type": "code",
   "outputs": [
    {
     "name": "stdout",
     "output_type": "stream",
     "text": [
      "[[0. 0.]\n",
      " [0. 0.]] \n",
      "\n",
      "[[0. 0. 1.]\n",
      " [0. 0. 1.]] \n",
      "\n",
      "[[0. 0. 1.]\n",
      " [0. 0. 1.]\n",
      " [2. 2. 2.]\n",
      " [2. 2. 2.]] \n",
      "\n",
      "[[0. 0.]\n",
      " [0. 0.]\n",
      " [2. 2.]\n",
      " [2. 2.]] \n",
      "\n",
      "[[0. 0.]\n",
      " [0. 0.]\n",
      " [2. 2.]] \n"
     ]
    }
   ],
   "source": [
    "import numpy as np\n",
    "\n",
    "#INSERTING ELEMENTS\n",
    "myArray = np.zeros((2,2))\n",
    "print(myArray, \"\\n\")\n",
    "\n",
    "\n",
    "#Add 1 column of 1 to this array:\n",
    "\n",
    "myArray_1 = np.append(myArray,np.ones((2,1)),axis=1)\n",
    "print(myArray_1, \"\\n\")\n",
    "\n",
    "#Add 2 rows of 2 to the answer from part 1\n",
    "myArray_2 = np.append(myArray_1,[[2,2,2],[2,2,2]],axis=0)\n",
    "print(myArray_2, \"\\n\")\n",
    "\n",
    "#Remove the last column\n",
    "myArray_3 = np.delete(myArray_2,2,axis=1)\n",
    "print(myArray_3, \"\\n\")\n",
    "#Remove the last row\n",
    "myArray_4 = np.delete(myArray_3,3,axis=0)\n",
    "print(myArray_4, \"\\n\")"
   ],
   "metadata": {
    "collapsed": false,
    "ExecuteTime": {
     "end_time": "2024-02-29T14:23:09.994495200Z",
     "start_time": "2024-02-29T14:23:09.453003900Z"
    }
   },
   "id": "bef875169f9c2d68",
   "execution_count": 1
  },
  {
   "cell_type": "code",
   "outputs": [],
   "source": [],
   "metadata": {
    "collapsed": false
   },
   "id": "ee0ab3a7dfdf16be"
  }
 ],
 "metadata": {
  "kernelspec": {
   "display_name": "Python 3",
   "language": "python",
   "name": "python3"
  },
  "language_info": {
   "codemirror_mode": {
    "name": "ipython",
    "version": 2
   },
   "file_extension": ".py",
   "mimetype": "text/x-python",
   "name": "python",
   "nbconvert_exporter": "python",
   "pygments_lexer": "ipython2",
   "version": "2.7.6"
  }
 },
 "nbformat": 4,
 "nbformat_minor": 5
}
