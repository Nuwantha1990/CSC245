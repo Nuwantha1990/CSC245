{
 "cells": [
  {
   "cell_type": "code",
   "execution_count": 1,
   "id": "initial_id",
   "metadata": {
    "collapsed": true,
    "ExecuteTime": {
     "end_time": "2024-02-29T14:25:53.935762500Z",
     "start_time": "2024-02-29T14:25:53.057852200Z"
    }
   },
   "outputs": [
    {
     "name": "stdout",
     "output_type": "stream",
     "text": [
      "[ 0 -1  2 -1  4 -1  6 -1  8 -1]\n",
      "[[0 1 2]\n",
      " [3 4 5]\n",
      " [6 7 8]]\n",
      "[[202 203]\n",
      " [204 205]]\n"
     ]
    }
   ],
   "source": [
    "import numpy as np\n",
    "#Replace all odd numbers in the given array with -1\n",
    "exercise_1 = np.array([0, 1, 2, 3, 4, 5, 6, 7, 8, 9])\n",
    "exercise_1[exercise_1 % 2 == 1] = -1\n",
    "print(exercise_1)\n",
    "\n",
    "\n",
    "#Convert a 1-D array into a 2-D array with 3 rows\n",
    "exercise_2 = np.array([0,1,2,3,4,5,6,7,8])\n",
    "## Convert exercise_2 into a 2-D array with 3 rows\n",
    "exercise_2_reshaped = exercise_2.reshape(3, -1)\n",
    "print(exercise_2_reshaped)\n",
    "\n",
    "#Add 202 to all the values in given array\n",
    "\n",
    "exercise_3 = np.arange(4).reshape(2,-1)\n",
    "# Add 202 to all the values in exercise_3\n",
    "exercise_3_updated = exercise_3 + 202\n",
    "print(exercise_3_updated)"
   ]
  },
  {
   "cell_type": "code",
   "outputs": [],
   "source": [],
   "metadata": {
    "collapsed": false
   },
   "id": "ff4d381d0dc5ea78"
  }
 ],
 "metadata": {
  "kernelspec": {
   "display_name": "Python 3",
   "language": "python",
   "name": "python3"
  },
  "language_info": {
   "codemirror_mode": {
    "name": "ipython",
    "version": 2
   },
   "file_extension": ".py",
   "mimetype": "text/x-python",
   "name": "python",
   "nbconvert_exporter": "python",
   "pygments_lexer": "ipython2",
   "version": "2.7.6"
  }
 },
 "nbformat": 4,
 "nbformat_minor": 5
}
