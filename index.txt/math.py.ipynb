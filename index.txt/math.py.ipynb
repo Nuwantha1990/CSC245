{
 "cells": [
  {
   "cell_type": "code",
   "execution_count": null,
   "id": "initial_id",
   "metadata": {
    "collapsed": true
   },
   "outputs": [],
   "source": []
  },
  {
   "cell_type": "code",
   "outputs": [
    {
     "name": "stdout",
     "output_type": "stream",
     "text": [
      "[ 0  1  4  9 16 25 36 49 64 81]\n",
      "[0.         1.         1.41421356 1.73205081 2.         2.23606798\n",
      " 2.44948974 2.64575131 2.82842712 3.        ]\n",
      "[  0.           1.           5.65685425  15.58845727  32.\n",
      "  55.90169944  88.18163074 129.64181424 181.01933598 243.        ]\n"
     ]
    }
   ],
   "source": [
    "import numpy as np\n",
    "#Use this array for the following practice:\n",
    "\n",
    "myArray = np.arange(10)\n",
    "\n",
    "#1. Find the square of every number in array\n",
    "\n",
    "squared_array = myArray **2\n",
    "print(squared_array)\n",
    "\n",
    "#2. Find the square root of every number in array\n",
    "squaredroot_array = np.sqrt(myArray)\n",
    "print(squaredroot_array)\n",
    "\n",
    "#3. Multiply the square of each number in array with its respective square root\n",
    "multiply_array = squared_array * squaredroot_array\n",
    "print(multiply_array)\n"
   ],
   "metadata": {
    "collapsed": false,
    "ExecuteTime": {
     "end_time": "2024-02-29T14:24:02.345409Z",
     "start_time": "2024-02-29T14:24:02.212790800Z"
    }
   },
   "id": "d39765b362d1667f",
   "execution_count": 1
  },
  {
   "cell_type": "code",
   "outputs": [],
   "source": [],
   "metadata": {
    "collapsed": false
   },
   "id": "ea36e102b2a18f78"
  }
 ],
 "metadata": {
  "kernelspec": {
   "display_name": "Python 3",
   "language": "python",
   "name": "python3"
  },
  "language_info": {
   "codemirror_mode": {
    "name": "ipython",
    "version": 2
   },
   "file_extension": ".py",
   "mimetype": "text/x-python",
   "name": "python",
   "nbconvert_exporter": "python",
   "pygments_lexer": "ipython2",
   "version": "2.7.6"
  }
 },
 "nbformat": 4,
 "nbformat_minor": 5
}
